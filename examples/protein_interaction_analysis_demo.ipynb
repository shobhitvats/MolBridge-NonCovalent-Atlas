{
 "cells": [
  {
   "cell_type": "markdown",
   "id": "a9cab91f",
   "metadata": {},
   "source": [
    "# Protein Interaction Explorer - Example Analysis\n",
    "\n",
    "This notebook demonstrates the capabilities of the Protein Interaction Explorer application for comprehensive noncovalent interaction analysis.\n",
    "\n",
    "## Features Demonstrated\n",
    "- Multiple PDB structure analysis\n",
    "- 11 types of noncovalent interaction detection\n",
    "- Interactive 3D visualization\n",
    "- Comparative analysis\n",
    "- Report generation"
   ]
  },
  {
   "cell_type": "code",
   "execution_count": null,
   "id": "0ba11ae7",
   "metadata": {},
   "outputs": [],
   "source": [
    "# Import required modules\n",
    "import sys\n",
    "import os\n",
    "sys.path.append('/workspaces/Protein-Interaction-Analysis-Server/src')\n",
    "\n",
    "import pandas as pd\n",
    "import numpy as np\n",
    "from utils.config import AppConfig\n",
    "from utils.pdb_handler import PDBHandler\n",
    "from analysis.batch_processor import BatchProcessor\n",
    "from visualization.structure_viewer import StructureViewer\n",
    "from visualization.plots import PlotGenerator\n",
    "from reporting.report_generator import ReportGenerator"
   ]
  },
  {
   "cell_type": "markdown",
   "id": "fa6c988f",
   "metadata": {},
   "source": [
    "## Configuration Setup\n",
    "\n",
    "Initialize the application configuration with literature-based default parameters."
   ]
  },
  {
   "cell_type": "code",
   "execution_count": null,
   "id": "94fde519",
   "metadata": {},
   "outputs": [],
   "source": [
    "# Initialize configuration\n",
    "config = AppConfig()\n",
    "config.set_preset(\"literature_default\")\n",
    "\n",
    "print(f\"Configuration initialized with preset: {config.current_preset}\")\n",
    "print(f\"Hydrogen bond distance cutoff: {config.interaction_config.hbond_distance_cutoff} Å\")\n",
    "print(f\"π-π stacking distance cutoff: {config.interaction_config.pi_pi_distance_cutoff} Å\")\n",
    "print(f\"Processing workers: {config.processing_config.max_workers}\")"
   ]
  },
  {
   "cell_type": "markdown",
   "id": "97f3fe88",
   "metadata": {},
   "source": [
    "## Example 1: Single Structure Analysis\n",
    "\n",
    "Analyze a small protein structure to demonstrate basic functionality."
   ]
  },
  {
   "cell_type": "code",
   "execution_count": null,
   "id": "60760111",
   "metadata": {},
   "outputs": [],
   "source": [
    "# Initialize processors\n",
    "pdb_handler = PDBHandler(config)\n",
    "batch_processor = BatchProcessor(config)\n",
    "structure_viewer = StructureViewer(config)\n",
    "plot_generator = PlotGenerator(config)\n",
    "\n",
    "# Analyze a small protein (lysozyme)\n",
    "pdb_id = \"1LYZ\"\n",
    "print(f\"Analyzing structure: {pdb_id}\")\n",
    "\n",
    "# Run analysis\n",
    "results = batch_processor.process_batch([pdb_id])\n",
    "result = results[pdb_id]\n",
    "\n",
    "print(f\"\\nAnalysis completed for {pdb_id}\")\n",
    "print(f\"Analysis time: {result['metadata']['analysis_time']:.2f} seconds\")\n",
    "print(f\"Total residues: {result['structure_info']['total_residues']}\")\n",
    "print(f\"Total chains: {len(result['structure_info']['chains'])}\")"
   ]
  },
  {
   "cell_type": "markdown",
   "id": "a3ad8e7b",
   "metadata": {},
   "source": [
    "### Interaction Summary"
   ]
  },
  {
   "cell_type": "code",
   "execution_count": null,
   "id": "43dc08d2",
   "metadata": {},
   "outputs": [],
   "source": [
    "# Display interaction summary\n",
    "interactions = result['interactions']\n",
    "\n",
    "print(f\"Interaction Summary for {pdb_id}:\")\n",
    "print(\"=\" * 40)\n",
    "\n",
    "total_interactions = 0\n",
    "for interaction_type, interaction_list in interactions.items():\n",
    "    count = len(interaction_list)\n",
    "    total_interactions += count\n",
    "    \n",
    "    if count > 0:\n",
    "        # Calculate average distance\n",
    "        distances = [i.get('distance', 0) for i in interaction_list if 'distance' in i]\n",
    "        avg_distance = np.mean(distances) if distances else 0\n",
    "        \n",
    "        print(f\"{interaction_type.replace('_', ' ').title()}: {count} interactions (avg dist: {avg_distance:.2f} Å)\")\n",
    "\n",
    "print(f\"\\nTotal interactions: {total_interactions}\")"
   ]
  },
  {
   "cell_type": "markdown",
   "id": "248114fa",
   "metadata": {},
   "source": [
    "### Detailed Hydrogen Bond Analysis"
   ]
  },
  {
   "cell_type": "code",
   "execution_count": null,
   "id": "8303a947",
   "metadata": {},
   "outputs": [],
   "source": [
    "# Analyze hydrogen bonds in detail\n",
    "hbonds = interactions.get('hydrogen_bond', [])\n",
    "\n",
    "if hbonds:\n",
    "    hbond_df = pd.DataFrame(hbonds)\n",
    "    \n",
    "    print(f\"Hydrogen Bond Analysis ({len(hbonds)} bonds):\")\n",
    "    print(\"=\" * 45)\n",
    "    \n",
    "    # Summary statistics\n",
    "    print(f\"Distance range: {hbond_df['distance'].min():.2f} - {hbond_df['distance'].max():.2f} Å\")\n",
    "    print(f\"Average distance: {hbond_df['distance'].mean():.2f} ± {hbond_df['distance'].std():.2f} Å\")\n",
    "    \n",
    "    if 'angle' in hbond_df.columns:\n",
    "        print(f\"Angle range: {hbond_df['angle'].min():.1f} - {hbond_df['angle'].max():.1f}°\")\n",
    "        print(f\"Average angle: {hbond_df['angle'].mean():.1f} ± {hbond_df['angle'].std():.1f}°\")\n",
    "    \n",
    "    # Strength distribution\n",
    "    if 'strength' in hbond_df.columns:\n",
    "        strength_counts = hbond_df['strength'].value_counts()\n",
    "        print(\"\\nStrength distribution:\")\n",
    "        for strength, count in strength_counts.items():\n",
    "            print(f\"  {strength}: {count} bonds ({count/len(hbonds)*100:.1f}%)\")\n",
    "    \n",
    "    # Display first few hydrogen bonds\n",
    "    print(\"\\nExample hydrogen bonds:\")\n",
    "    display_cols = ['residue1', 'residue2', 'atom1', 'atom2', 'distance', 'angle', 'strength']\n",
    "    available_cols = [col for col in display_cols if col in hbond_df.columns]\n",
    "    print(hbond_df[available_cols].head().to_string(index=False))\n",
    "else:\n",
    "    print(\"No hydrogen bonds detected.\")"
   ]
  },
  {
   "cell_type": "markdown",
   "id": "19ed5de6",
   "metadata": {},
   "source": [
    "### 3D Visualization\n",
    "\n",
    "Generate interactive 3D visualization with interaction overlays."
   ]
  },
  {
   "cell_type": "code",
   "execution_count": null,
   "id": "71583c2c",
   "metadata": {},
   "outputs": [],
   "source": [
    "# Generate 3D visualization\n",
    "structure = pdb_handler.load_structure(pdb_id)\n",
    "\n",
    "if structure:\n",
    "    # Create visualization with hydrogen bonds highlighted\n",
    "    viz_html = structure_viewer.render_structure(\n",
    "        structure=structure,\n",
    "        interactions=interactions,\n",
    "        highlight_interactions=['hydrogen_bond', 'pi_pi'],\n",
    "        style='cartoon',\n",
    "        color_scheme='chain'\n",
    "    )\n",
    "    \n",
    "    # Display the visualization\n",
    "    from IPython.display import HTML\n",
    "    HTML(viz_html)\n",
    "else:\n",
    "    print(\"Could not load structure for visualization.\")"
   ]
  },
  {
   "cell_type": "markdown",
   "id": "037230ff",
   "metadata": {},
   "source": [
    "## Example 2: Comparative Analysis\n",
    "\n",
    "Compare interactions between multiple related structures."
   ]
  },
  {
   "cell_type": "code",
   "execution_count": null,
   "id": "77b9a85b",
   "metadata": {},
   "outputs": [],
   "source": [
    "# Analyze multiple related structures (different lysozyme structures)\n",
    "pdb_ids = [\"1LYZ\", \"2LYZ\", \"3LYZ\"]\n",
    "\n",
    "print(f\"Comparative analysis of {len(pdb_ids)} structures...\")\n",
    "\n",
    "# Run batch analysis\n",
    "comparative_results = batch_processor.process_batch(pdb_ids)\n",
    "\n",
    "# Create comparison summary\n",
    "comparison_data = []\n",
    "\n",
    "for pdb_id in pdb_ids:\n",
    "    if pdb_id in comparative_results and comparative_results[pdb_id]:\n",
    "        result = comparative_results[pdb_id]\n",
    "        interactions = result['interactions']\n",
    "        \n",
    "        row = {\n",
    "            'PDB_ID': pdb_id,\n",
    "            'Total_Residues': result['structure_info']['total_residues'],\n",
    "            'Total_Interactions': sum(len(int_list) for int_list in interactions.values())\n",
    "        }\n",
    "        \n",
    "        # Add individual interaction counts\n",
    "        for int_type in ['hydrogen_bond', 'halogen_bond', 'pi_pi', 'ionic', 'hydrophobic']:\n",
    "            row[f'{int_type}_count'] = len(interactions.get(int_type, []))\n",
    "        \n",
    "        comparison_data.append(row)\n",
    "\n",
    "# Display comparison table\n",
    "if comparison_data:\n",
    "    comparison_df = pd.DataFrame(comparison_data)\n",
    "    print(\"\\nComparative Analysis Results:\")\n",
    "    print(\"=\" * 50)\n",
    "    print(comparison_df.to_string(index=False))\n",
    "else:\n",
    "    print(\"No successful analyses for comparison.\")"
   ]
  },
  {
   "cell_type": "markdown",
   "id": "a77a146e",
   "metadata": {},
   "source": [
    "### Interaction Distribution Plots"
   ]
  },
  {
   "cell_type": "code",
   "execution_count": null,
   "id": "41971329",
   "metadata": {},
   "outputs": [],
   "source": [
    "# Generate comparative plots\n",
    "if len(comparative_results) > 1:\n",
    "    # Create interaction comparison plot\n",
    "    fig = plot_generator.create_interaction_comparison_plot(\n",
    "        comparative_results,\n",
    "        plot_type='bar'\n",
    "    )\n",
    "    fig.show()\n",
    "    \n",
    "    # Create distance distribution plot for hydrogen bonds\n",
    "    fig_dist = plot_generator.create_distance_distribution_plot(\n",
    "        comparative_results,\n",
    "        interaction_type='hydrogen_bond'\n",
    "    )\n",
    "    fig_dist.show()\n",
    "else:\n",
    "    print(\"Need multiple structures for comparative plots.\")"
   ]
  },
  {
   "cell_type": "markdown",
   "id": "6a7ce4bd",
   "metadata": {},
   "source": [
    "## Example 3: Report Generation\n",
    "\n",
    "Generate comprehensive reports in multiple formats."
   ]
  },
  {
   "cell_type": "code",
   "execution_count": null,
   "id": "fa800045",
   "metadata": {},
   "outputs": [],
   "source": [
    "# Initialize report generator\n",
    "report_generator = ReportGenerator(config)\n",
    "\n",
    "# Generate CSV report for single structure\n",
    "if pdb_id in results and results[pdb_id]:\n",
    "    csv_report = report_generator.generate_csv_report(pdb_id, results[pdb_id])\n",
    "    \n",
    "    print(f\"CSV Report for {pdb_id}:\")\n",
    "    print(\"=\" * 30)\n",
    "    print(csv_report[:500] + \"...\" if len(csv_report) > 500 else csv_report)\n",
    "\n",
    "# Generate LaTeX snippets for publication\n",
    "if comparative_results:\n",
    "    latex_export = report_generator.generate_latex_export(\n",
    "        list(comparative_results.keys()),\n",
    "        comparative_results\n",
    "    )\n",
    "    \n",
    "    print(\"\\n\\nLaTeX Export (first 500 characters):\")\n",
    "    print(\"=\" * 40)\n",
    "    print(latex_export[:500] + \"...\" if len(latex_export) > 500 else latex_export)"
   ]
  },
  {
   "cell_type": "markdown",
   "id": "ee312722",
   "metadata": {},
   "source": [
    "## Example 4: Configuration Customization\n",
    "\n",
    "Demonstrate how to customize analysis parameters."
   ]
  },
  {
   "cell_type": "code",
   "execution_count": null,
   "id": "1493e48f",
   "metadata": {},
   "outputs": [],
   "source": [
    "# Show current configuration\n",
    "print(\"Current Hydrogen Bond Parameters:\")\n",
    "print(f\"Distance cutoff: {config.interaction_config.hbond_distance_cutoff} Å\")\n",
    "print(f\"Angle cutoff: {config.interaction_config.hbond_angle_cutoff}°\")\n",
    "\n",
    "# Switch to conservative preset\n",
    "config.set_preset(\"conservative\")\n",
    "print(\"\\nAfter switching to conservative preset:\")\n",
    "print(f\"Distance cutoff: {config.interaction_config.hbond_distance_cutoff} Å\")\n",
    "print(f\"Angle cutoff: {config.interaction_config.hbond_angle_cutoff}°\")\n",
    "\n",
    "# Custom configuration\n",
    "config.interaction_config.hbond_distance_cutoff = 3.0\n",
    "config.interaction_config.hbond_angle_cutoff = 30.0\n",
    "\n",
    "print(\"\\nAfter custom modification:\")\n",
    "print(f\"Distance cutoff: {config.interaction_config.hbond_distance_cutoff} Å\")\n",
    "print(f\"Angle cutoff: {config.interaction_config.hbond_angle_cutoff}°\")\n",
    "\n",
    "# Reset to default\n",
    "config.set_preset(\"literature_default\")\n",
    "print(\"\\nReset to literature default.\")"
   ]
  },
  {
   "cell_type": "markdown",
   "id": "ffb90aa8",
   "metadata": {},
   "source": [
    "## Example 5: Hotspot Analysis\n",
    "\n",
    "Identify interaction hotspots in protein structures."
   ]
  },
  {
   "cell_type": "code",
   "execution_count": null,
   "id": "6f911fe5",
   "metadata": {},
   "outputs": [],
   "source": [
    "# Analyze interaction hotspots\n",
    "if pdb_id in results and results[pdb_id]:\n",
    "    hotspots = results[pdb_id].get('hotspots', [])\n",
    "    \n",
    "    if hotspots:\n",
    "        print(f\"Interaction Hotspots in {pdb_id}:\")\n",
    "        print(\"=\" * 35)\n",
    "        \n",
    "        for i, hotspot in enumerate(hotspots[:10], 1):\n",
    "            print(f\"{i:2d}. {hotspot['residue']} - {hotspot['interaction_count']} interactions\")\n",
    "            \n",
    "            # Show interaction types for top hotspots\n",
    "            if i <= 3 and 'interaction_types' in hotspot:\n",
    "                types = hotspot['interaction_types']\n",
    "                type_str = \", \".join([f\"{t}: {c}\" for t, c in types.items() if c > 0])\n",
    "                print(f\"    Types: {type_str}\")\n",
    "                print()\n",
    "    else:\n",
    "        print(\"No hotspots identified.\")\n",
    "else:\n",
    "    print(\"No results available for hotspot analysis.\")"
   ]
  },
  {
   "cell_type": "markdown",
   "id": "cd01eb85",
   "metadata": {},
   "source": [
    "## Summary\n",
    "\n",
    "This notebook has demonstrated the key capabilities of the Protein Interaction Explorer:\n",
    "\n",
    "1. **Comprehensive Analysis**: Detection of multiple interaction types with configurable parameters\n",
    "2. **Visualization**: Interactive 3D structure viewing with interaction highlighting\n",
    "3. **Comparative Analysis**: Side-by-side comparison of multiple structures\n",
    "4. **Report Generation**: Multiple output formats for different use cases\n",
    "5. **Customization**: Flexible configuration for different analysis needs\n",
    "6. **Hotspot Identification**: Finding regions of high interaction density\n",
    "\n",
    "### Next Steps\n",
    "\n",
    "- Try analyzing your own structures using the Streamlit interface\n",
    "- Experiment with different configuration presets\n",
    "- Use the REST API for programmatic access\n",
    "- Generate publication-ready reports and figures\n",
    "\n",
    "For more information, see the documentation and user guide."
   ]
  }
 ],
 "metadata": {
  "language_info": {
   "name": "python"
  }
 },
 "nbformat": 4,
 "nbformat_minor": 5
}
